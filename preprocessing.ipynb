{
 "cells": [
  {
   "cell_type": "markdown",
   "metadata": {
    "cell_id": "2fb2743e18e04e1c85117cd97b585994",
    "deepnote_cell_type": "text-cell-h1",
    "formattedRanges": []
   },
   "source": [
    "# USA Covid 19 Dataset EDA"
   ]
  },
  {
   "cell_type": "markdown",
   "metadata": {
    "cell_id": "03e5d907ffae42f385a53289d76e3c9d",
    "deepnote_cell_type": "text-cell-p",
    "formattedRanges": []
   },
   "source": [
    "En este notebook haremos un análisis exploratorio básico de la base de datos de The COVID Tracking Project, para familiarizarnos con los datos. Aunque el proyecto terminó en mayo de 2021, sólo tenemos  datos hasta marzo de 2021."
   ]
  },
  {
   "cell_type": "markdown",
   "metadata": {
    "cell_id": "9dbcf91775b84525b675143575b35f02",
    "deepnote_cell_type": "text-cell-h2",
    "formattedRanges": []
   },
   "source": [
    "## Importamos las librerías"
   ]
  },
  {
   "cell_type": "code",
   "execution_count": 1,
   "metadata": {
    "cell_id": "9e07d5d62a0748508522c01e4ac55578",
    "deepnote_cell_type": "code",
    "deepnote_to_be_reexecuted": false,
    "execution_millis": 46,
    "execution_start": 1689766525953,
    "source_hash": "9b82ee11"
   },
   "outputs": [],
   "source": [
    "import pandas as pd"
   ]
  },
  {
   "cell_type": "markdown",
   "metadata": {
    "cell_id": "4820e267afc84901908ab36ca8dbe05d",
    "deepnote_cell_type": "text-cell-h2",
    "formattedRanges": []
   },
   "source": [
    "## Exploración básica del dataset"
   ]
  },
  {
   "cell_type": "markdown",
   "metadata": {
    "cell_id": "9a07335fc2664cd49b6c11db74ca4ee3",
    "deepnote_cell_type": "text-cell-h3",
    "formattedRanges": []
   },
   "source": [
    "### Estas son las variables por entrada que contiene este dataset"
   ]
  },
  {
   "cell_type": "markdown",
   "metadata": {
    "cell_id": "53d3f59269874259b6ac9ba957cf8b86",
    "deepnote_cell_type": "markdown"
   },
   "source": [
    "\n",
    "| Vble. | descripción |\n",
    "| :-    |:-  |\n",
    "|*checkTimeEt*| Deprecated|\n",
    "| *commercialScore*| Deprecated\n",
    "| *dataQualityGrade*| Calificación del Proyecto de Seguimiento de COVID sobre el reporte de datos por estado\n",
    "| *date*| Fecha en la que se recopilaron los datos.\n",
    "| *dateChecked*| Deprecated\n",
    "| *dateModified*| Deprecated, usar lastUpdateEt en su lugar\n",
    "| *death*| Total de fallecimientos con diagnóstico confirmado o probables de COVID-19.\n",
    "| *deathConfirmed*| Total de fallecimientos con diagnóstico confirmados de COVID-19.\n",
    "| *deathIncrease*| Incremento diario de fallecimientos, calculado a partir del valor del día anterior.\n",
    "| *deathProbable*| Total de fallecimientos con diagnóstico de casos probables de COVID-19\n",
    "| *fips*| Código FIPS\n",
    "| *grade*| Deprecated\n",
    "| *hash*| superficie por encima del suelo (en pies al cuadrado)\n",
    "| *hospitalized*| Total de Hospitalizados\n",
    "| *hospitalizedCumulative*| Número total de personas que han sido hospitalizadas con COVID-19. (Se desconoce si se incluye pacientes pediátricos)\n",
    "| *hospitalizedCurrently*| Personas que actualmente están hospitalizadas actualmente con COVID-19. (Se desconoce si se incluye pacientes pediátricos)\n",
    "| *hospitalizedDischarged*| El número total de pacientes COVID-19 dados de alta del hospital. (Se desconoce si se incluye pacientes pediátricos)\n",
    "| *hospitalizedIncrease*| Nuevas hospitalizaciones totales. Aumento diario del acumulativo de internados, calculado a partir del valor del día anterior.\n",
    "| *inIcuCumulative*| Número total de personas que han sido hospitalizadas en la Unidad de Cuidados Intensivos con COVID-19. (Se desconoce si se incluye pacientes pediátricos) \t\t\t\t\n",
    "| *inIcuCurrently*| Personas actualmente hospitalizadas en la Unidad de Cuidados Intensivos con COVID-19. (Se desconoce si se incluye pacientes pediátricos)\n",
    "| *lastUpdateEt*| Fecha y hora de la última actualización de los datos en el Estado o territorio.\n",
    "| *negative*| El número total de personas con una prueba PCR negativa se estima utilizando métodos basados en los datos proporcionados por cada estado/territorio. \t\t\t\t\n",
    "| *negativeIncrease*| Deprecated\n",
    "| *negativeRegularScore*| Deprecated\n",
    "| *negativeScore*| Deprecated\n",
    "| *negativeTestsAntibody*| Número total de pruebas de detección de anticuerpos que han dado resultado negativo, comunicadas por el Estado o el territorio.\n",
    "| *negativeTestsPeopleAntibody*    |   El número total de personas únicas con pruebas de anticuerpos completadas con resultado negativo, notificado por el estado o territorio.\n",
    "| *onVentilatorCurrently*| Recuento de pacientes hospitalizados con COVID-19 en ventilación avanzada, con variaciones en la definición y posible inclusión de pacientes pediátricos.\n",
    "| *pending*| Número total de pruebas víricas que no se han completado, notificado por el Estado o el territorio.\n",
    "| *posNeg*| Deprecated\n",
    "| *positive*| Recuento de casos confirmados y probables de COVID-19 según las definiciones estatales o territoriales, con variaciones en la inclusión de casos probables.\n",
    "| *positiveCasesViral*| Recuento de personas únicas con pruebas de PCR positivas o NAAT aprobadas según los estándares del CSTE, ajustando los datos si se utilizan pruebas diferentes para confirmar los casos en alguna jurisdicción.\n",
    "| *positiveIncrease*| El aumento diario del campo API positivo, que mide los Casos (confirmados más probables) calculados a partir del valor del día anterior.\n",
    "| *positiveScore*| Deprecated.\n",
    "| *positiveTestsAntibody*| Número total de pruebas de anticuerpos positivas.\n",
    "| *positiveTestsAntigen*| Número total de personas únicas con una prueba de antígeno positiva.\n",
    "| *positiveTestsPeopleAntibody*| Número total de personas únicas con pruebas de anticuerpos positivas.\n",
    "| *positiveTestsPeopleAntigen*| Número total de personas únicas con una prueba de antígeno positiva.\n",
    "| *positiveTestsViral*| Número total de pruebas PCR completadas (o muestras analizadas) positivas.\n",
    "| *probableCases*| Número total de casos probables de COVID-19.\n",
    "| *recovered*| Número total de personas recuperadas de COVID-19.\n",
    "| *score*| score\n",
    "| *state*| Estado o territorio.\n",
    "| *total*| Deprecated.\n",
    "| *totalTestEncountersViral*| Número total de personas sometidas a pruebas PCR al día\n",
    "| *totalTestResults*| Estimación de las pruebas víricas PCR (En cada estado siguen metodologías distintas)\n",
    "| *totalTestResultsIncrease*|  Aumento diario de totalTestResults respecto al día anterior|\n",
    "| *totalTestResultsSource*| Indica qué campo se está utilizando para los resultados totales de las pruebas\n",
    "| *totalTestsAntibody*|  Número total de pruebas de anticuerpos completadas\n",
    "| *totalTestsAntigen*| Número total de pruebas de antígenos completadas\n",
    "| *totalTestsPeopleAntibody*| Total de personas únicas sometidas al menos una vez a una prueba de anticuerpos\n",
    "| *totalTestsPeopleAntigen*| Total de personas únicas sometidas al menos una vez a una prueba de antígenos|\n",
    "| *totalTestsPeopleViral*| Total de personas únicas sometidas al menos una vez a una prueba PCR\n",
    "| *totalTestsViral*| Número total de pruebas PCR (o muestras analizadas)\n"
   ]
  },
  {
   "cell_type": "markdown",
   "metadata": {
    "cell_id": "a45d82678e5340c7b5bafe22a0e63318",
    "deepnote_cell_type": "text-cell-h2",
    "formattedRanges": []
   },
   "source": [
    "## "
   ]
  }
 ],
 "metadata": {
  "deepnote": {},
  "deepnote_execution_queue": [],
  "deepnote_notebook_id": "0f23e5c34ce340739debebe3d064d728",
  "deepnote_persisted_session": {
   "createdAt": "2023-07-19T11:02:09.269Z"
  },
  "kernelspec": {
   "display_name": "Python 3 (ipykernel)",
   "language": "python",
   "name": "python3"
  },
  "language_info": {
   "codemirror_mode": {
    "name": "ipython",
    "version": 3
   },
   "file_extension": ".py",
   "mimetype": "text/x-python",
   "name": "python",
   "nbconvert_exporter": "python",
   "pygments_lexer": "ipython3",
   "version": "3.11.4"
  }
 },
 "nbformat": 4,
 "nbformat_minor": 1
}
